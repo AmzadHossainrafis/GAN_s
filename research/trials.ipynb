{
 "cells": [
  {
   "cell_type": "code",
   "execution_count": 33,
   "metadata": {},
   "outputs": [],
   "source": [
    "import GAN_s as gn\n"
   ]
  },
  {
   "cell_type": "code",
   "execution_count": 34,
   "metadata": {},
   "outputs": [
    {
     "name": "stdout",
     "output_type": "stream",
     "text": [
      "{'Train_config': {'batch_size': 32, 'shuffle': True, 'num_workers': 4, 'pin_memory': True, 'drop_last': True, 'epochs': 100, 'lr': 0.001, 'model_name': 'gans', 'version': 1, 'save_model': True, 'save_at': 10}, 'Dir': {'root': 'GAN_s', 'dataset': 'data\\\\humanface\\\\', 'model_save_path': 'artifects\\\\', 'model_load_path': 'artifects\\\\'}, 'Transform': {'train_transforms': ['transforms.Resize(64)', 'transforms.CenterCrop(64)', 'transforms.ToTensor()', 'transforms.Normalize((0.5,0.5,0.5),(0.5,0.5,0.5))'], 'test_transforms': ['transforms.Resize(64)', 'transforms.CenterCrop(64)', 'transforms.ToTensor()', 'transforms.Normalize((0.5,0.5,0.5),(0.5,0.5,0.5))']}, 'Generol_config': {'feature_dis': 64, 'feature_gen': 64, 'latent_dim': 100}}\n"
     ]
    }
   ],
   "source": [
    "from GAN_s.utils.common import read_yaml\n",
    "config = read_yaml(\"../config/config.yaml\")\n",
    "print(config)"
   ]
  },
  {
   "cell_type": "code",
   "execution_count": 35,
   "metadata": {},
   "outputs": [
    {
     "name": "stdout",
     "output_type": "stream",
     "text": [
      "{'Dir': {'dataset': 'data\\\\humanface\\\\', 'model_load_path': 'artifects\\\\', 'model_save_path': 'artifects\\\\', 'root': 'GAN_s'}, 'Generol_config': {'feature_dis': 64, 'feature_gen': 64, 'latent_dim': 100}, 'Train_config': {'lr': 0.0001}, 'Transform': {'test_transforms': ['transforms.Resize(64)', 'transforms.CenterCrop(64)', 'transforms.ToTensor()', 'transforms.Normalize((0.5,0.5,0.5),(0.5,0.5,0.5))'], 'train_transforms': ['transforms.Resize(64)', 'transforms.CenterCrop(64)', 'transforms.ToTensor()', 'transforms.Normalize((0.5,0.5,0.5),(0.5,0.5,0.5))']}}\n"
     ]
    }
   ],
   "source": [
    "from GAN_s.utils.modifier import *\n",
    "overde = {\"Train_config\": {\"lr\": 0.0001}}\n",
    "override_config_variables(\"../config/config.yaml\", overde)\n",
    "print(read_yaml(\"../config/config.yaml\"))"
   ]
  }
 ],
 "metadata": {
  "kernelspec": {
   "display_name": "myenv",
   "language": "python",
   "name": "python3"
  },
  "language_info": {
   "codemirror_mode": {
    "name": "ipython",
    "version": 3
   },
   "file_extension": ".py",
   "mimetype": "text/x-python",
   "name": "python",
   "nbconvert_exporter": "python",
   "pygments_lexer": "ipython3",
   "version": "3.10.13"
  }
 },
 "nbformat": 4,
 "nbformat_minor": 2
}
